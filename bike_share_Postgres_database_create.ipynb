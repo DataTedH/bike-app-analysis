{
 "cells": [
  {
   "cell_type": "markdown",
   "source": [
    "## Import modules"
   ],
   "metadata": {
    "collapsed": false
   }
  },
  {
   "cell_type": "code",
   "execution_count": 1,
   "outputs": [],
   "source": [
    "import pandas as pd\n",
    "import glob\n",
    "from postgresql_tools import create_db_conn, create_table, insert_data_to_db"
   ],
   "metadata": {
    "collapsed": false
   }
  },
  {
   "cell_type": "markdown",
   "source": [
    "## Create table in local Postgres database"
   ],
   "metadata": {
    "collapsed": false
   }
  },
  {
   "cell_type": "code",
   "execution_count": 2,
   "outputs": [],
   "source": [
    "# Create connection to PostgreSQL database\n",
    "conn = create_db_conn('config.ini')\n",
    "\n",
    "# Create tables in the database\n",
    "create_table('create_trips_table.sql', conn)\n",
    "create_table('create_station_table.sql', conn)"
   ],
   "metadata": {
    "collapsed": false
   }
  },
  {
   "cell_type": "markdown",
   "source": [
    "## Import CSV files and clean data"
   ],
   "metadata": {
    "collapsed": false
   }
  },
  {
   "cell_type": "code",
   "execution_count": 3,
   "outputs": [],
   "source": [
    "# Define function to clean and transform data\n",
    "def clean_data(df):\n",
    "    df['started_at'] = pd.to_datetime(df['started_at'], format='%Y-%m-%d %H:%M:%S')\n",
    "    df['ended_at'] = pd.to_datetime(df['ended_at'], format='%Y-%m-%d %H:%M:%S')\n",
    "    df['ride_time'] = pd.to_timedelta(df['ended_at'] - df['started_at'], unit='minutes')\n",
    "    df = df[df['ride_time'] >= pd.Timedelta(minutes=1)]\n",
    "    df = df[['ride_id', 'rideable_type', 'started_at', 'ended_at', 'start_station_id',\n",
    "             'end_station_id', 'member_casual', 'ride_time']]\n",
    "    return df\n",
    "\n",
    "# Extract station ids and coordinates from dataframe\n",
    "def get_stations(df):\n",
    "    start_stations = df.groupby(['start_station_name', 'start_station_id']).agg({\n",
    "        'start_lat': 'first',\n",
    "        'start_lng': 'first'\n",
    "    }).reset_index()\n",
    "    end_stations = df.groupby(['end_station_name', 'end_station_id']).agg({\n",
    "        'end_lat': 'first',\n",
    "        'end_lng': 'first'\n",
    "    }).reset_index()\n",
    "    start_stations = start_stations.rename(columns={\n",
    "        'start_station_name': 'station_name',\n",
    "        'start_station_id': 'station_id',\n",
    "        'start_lat': 'latitude',\n",
    "        'start_lng': 'longitude'\n",
    "    })\n",
    "    end_stations = end_stations.rename(columns={\n",
    "        'end_station_name': 'station_name',\n",
    "        'end_station_id': 'station_id',\n",
    "        'end_lat': 'latitude',\n",
    "        'end_lng': 'longitude'\n",
    "    })\n",
    "    df = pd.concat([start_stations, end_stations]).drop_duplicates().reset_index(drop=True)\n",
    "    return df\n",
    "\n",
    "# Read CSV files into pandas dataframes and concatenate into a single dataframe\n",
    "src_dir = './src/*.csv'\n",
    "src_files = glob.glob(src_dir)\n",
    "df_list = []\n",
    "for file in src_files:\n",
    "    df = pd.read_csv(file, parse_dates=['started_at','ended_at'])\n",
    "    df_list.append(df)\n",
    "df = pd.concat(df_list, ignore_index=True)\n",
    "\n",
    "# Clean and transform data\n",
    "\n",
    "stations = get_stations(df)\n",
    "df = clean_data(df)"
   ],
   "metadata": {
    "collapsed": false
   }
  },
  {
   "cell_type": "markdown",
   "source": [
    "## Write dataframes to databases"
   ],
   "metadata": {
    "collapsed": false
   }
  },
  {
   "cell_type": "code",
   "execution_count": 9,
   "outputs": [],
   "source": [
    "# Write the dataframes to PostgreSQL database\n",
    "insert_data_to_db(conn, df, 'trips')\n",
    "\n",
    "insert_data_to_db(conn, stations, 'stations')"
   ],
   "metadata": {
    "collapsed": false
   }
  },
  {
   "cell_type": "code",
   "execution_count": 10,
   "outputs": [],
   "source": [
    "conn.close()"
   ],
   "metadata": {
    "collapsed": false
   }
  },
  {
   "cell_type": "code",
   "execution_count": null,
   "outputs": [],
   "source": [],
   "metadata": {
    "collapsed": false
   }
  }
 ],
 "metadata": {
  "kernelspec": {
   "display_name": "Python 3",
   "language": "python",
   "name": "python3"
  },
  "language_info": {
   "codemirror_mode": {
    "name": "ipython",
    "version": 2
   },
   "file_extension": ".py",
   "mimetype": "text/x-python",
   "name": "python",
   "nbconvert_exporter": "python",
   "pygments_lexer": "ipython2",
   "version": "2.7.6"
  }
 },
 "nbformat": 4,
 "nbformat_minor": 0
}
