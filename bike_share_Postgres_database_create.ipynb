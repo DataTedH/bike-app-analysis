{
 "cells": [
  {
   "cell_type": "markdown",
   "source": [
    "## Import modules"
   ],
   "metadata": {
    "collapsed": false
   }
  },
  {
   "cell_type": "code",
   "execution_count": 1,
   "outputs": [],
   "source": [
    "import pandas as pd\n",
    "import psycopg2\n",
    "from configparser import ConfigParser\n",
    "import glob"
   ],
   "metadata": {
    "collapsed": false
   }
  },
  {
   "cell_type": "markdown",
   "source": [
    "## Create table in local Postgres database"
   ],
   "metadata": {
    "collapsed": false
   }
  },
  {
   "cell_type": "code",
   "execution_count": 8,
   "outputs": [],
   "source": [
    "# Read database configuration from config file\n",
    "config = ConfigParser()\n",
    "config.read('config.ini')\n",
    "\n",
    "# Connect to PostgreSQL database\n",
    "conn = psycopg2.connect(\n",
    "    host=config['postgresql']['host'],\n",
    "    port=config['postgresql']['port'],\n",
    "    database=config['postgresql']['database'],\n",
    "    user=config['postgresql']['user'],\n",
    "    password=config['postgresql']['password']\n",
    ")\n",
    "\n",
    "# Read SQL query to create table from file\n",
    "with open('create_tables.sql', 'r') as f:\n",
    "    create_table_query = f.read()\n",
    "\n",
    "# Execute SQL query to create trips table\n",
    "with conn.cursor() as cursor:\n",
    "    cursor.execute(create_table_query)"
   ],
   "metadata": {
    "collapsed": false
   }
  },
  {
   "cell_type": "markdown",
   "source": [
    "## Import CSV files and clean data"
   ],
   "metadata": {
    "collapsed": false
   }
  },
  {
   "cell_type": "code",
   "execution_count": 5,
   "outputs": [],
   "source": [
    "# Define function to clean and transform data\n",
    "def clean_data(df):\n",
    "    df['started_at'] = pd.to_datetime(df['started_at'], format='%Y-%m-%d %H:%M:%S')\n",
    "    df['ended_at'] = pd.to_datetime(df['ended_at'], format='%Y-%m-%d %H:%M:%S')\n",
    "    df['ride_time'] = pd.to_timedelta(df['ended_at'] - df['started_at'], unit='minutes')\n",
    "    df = df[df['ride_time'] >= pd.Timedelta(minutes=1)]\n",
    "    df = df[['ride_id', 'rideable_type', 'started_at', 'ended_at', 'start_station_name',\n",
    "             'start_station_id', 'start_lat', 'start_lng',\n",
    "             'end_station_name', 'end_station_id', 'end_lat',\n",
    "             'end_lng', 'member_casual', 'ride_time']]\n",
    "    return df\n",
    "\n",
    "# Read CSV files into pandas dataframes and concatenate into a single dataframe\n",
    "src_dir = './src/*.csv'\n",
    "src_files = glob.glob(src_dir)\n",
    "df_list = []\n",
    "for file in src_files:\n",
    "    df = pd.read_csv(file, parse_dates=['started_at','ended_at'])\n",
    "    df_list.append(df)\n",
    "df = pd.concat(df_list, ignore_index=True)\n",
    "\n",
    "# Clean and transform data\n",
    "df = clean_data(df)"
   ],
   "metadata": {
    "collapsed": false
   }
  },
  {
   "cell_type": "markdown",
   "source": [
    "## Write dataframes to database"
   ],
   "metadata": {
    "collapsed": false
   }
  },
  {
   "cell_type": "code",
   "execution_count": 9,
   "outputs": [],
   "source": [
    "# Write dataframe to PostgreSQL database\n",
    "with conn.cursor() as cursor:\n",
    "    for index, row in df.iterrows():\n",
    "        cursor.execute('INSERT INTO trips VALUES (%s, %s, %s, %s, %s, %s, %s, %s, %s, %s, %s, %s, %s, %s)',\n",
    "                   (row['ride_id'], row['rideable_type'], row['started_at'], row['ended_at'],\n",
    "                    row['start_station_name'], row['start_station_id'], row['start_lat'],\n",
    "                    row['start_lng'], row['end_station_name'], row['end_station_id'],\n",
    "                    row['end_lat'], row['end_lng'], row['member_casual'],\n",
    "                    row['ride_time']))\n",
    "    conn.commit()\n",
    "\n",
    "# Close database connection\n",
    "conn.close()"
   ],
   "metadata": {
    "collapsed": false
   }
  }
 ],
 "metadata": {
  "kernelspec": {
   "display_name": "Python 3",
   "language": "python",
   "name": "python3"
  },
  "language_info": {
   "codemirror_mode": {
    "name": "ipython",
    "version": 2
   },
   "file_extension": ".py",
   "mimetype": "text/x-python",
   "name": "python",
   "nbconvert_exporter": "python",
   "pygments_lexer": "ipython2",
   "version": "2.7.6"
  }
 },
 "nbformat": 4,
 "nbformat_minor": 0
}
